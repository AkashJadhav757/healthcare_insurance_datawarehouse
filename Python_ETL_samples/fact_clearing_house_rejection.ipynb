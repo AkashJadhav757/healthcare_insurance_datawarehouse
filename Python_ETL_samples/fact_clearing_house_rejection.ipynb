{
 "cells": [
  {
   "cell_type": "code",
   "execution_count": null,
   "id": "357e3f2a-e8e5-4a1e-83af-ac1f7cf08b02",
   "metadata": {},
   "outputs": [],
   "source": [
    "#Importing all the required modules\n",
    "\n",
    "from sqlalchemy.engine import create_engine\n",
    "import pandas as pd\n",
    "import datetime\n",
    "from sqlalchemy.dialects.oracle import DATE, VARCHAR2, FLOAT, NUMBER,TIMESTAMP\n",
    "from sqlalchemy import text,String,types\n",
    "from datetime import datetime\n",
    "from db_connections import fastpaceanalysis,datawarehouse_prod,AceExtraction"
   ]
  },
  {
   "cell_type": "code",
   "execution_count": null,
   "id": "7ab8fcf2-402c-45c3-9fa3-a8c745776d82",
   "metadata": {},
   "outputs": [],
   "source": [
    "#Database connections\n",
    "\n",
    "AceExtraction = AceExtraction()\n",
    "fastpaceanalysis=fastpaceanalysis()\n",
    "datawarehouse=datawarehouse_prod()"
   ]
  },
  {
   "cell_type": "code",
   "execution_count": null,
   "id": "645f9e02-adb2-4bc7-9e7d-a42a551d4c79",
   "metadata": {},
   "outputs": [],
   "source": [
    "# Extracting data from fastpaceanalysis\n",
    "## REFER ClearingHouse_RejectionDetails AS CHRD ##\n",
    "\n",
    "\n",
    "with fastpaceanalysis.begin():\n",
    "    try:\n",
    "        print('Extracting_data_from source')\n",
    "\n",
    "        query_for_CHRD = text('''SELECT  Patient_FirstName,Patient_LastName,Provider_LastName,Insurance_Claim_ID,Invoice_Number,Claim_Amount,Reason,Reject_By,Reject_Message,Rejected_Code,\n",
    "                                    Status,Insurance_Name,Reject_Date,Service_Date\n",
    "                                    FROM FastPaceAnalysis.ClearingHouse_RejectionDetails where Service_Date >= '2024-04-01';''')\n",
    "        \n",
    "        CHRD = pd.read_sql(query_for_CHRD,fastpaceanalysis)\n",
    "        \n",
    "        print('Data succesfully read from source. Records count is',CHRD.count())\n",
    "        \n",
    "    except Exception as e:\n",
    "        print('Error: ',e)"
   ]
  },
  {
   "cell_type": "code",
   "execution_count": null,
   "id": "fe939b0c-e551-4ce2-955e-72a435c36bd3",
   "metadata": {},
   "outputs": [],
   "source": [
    "# Extracting data from datawarehouse\n",
    "\n",
    "with datawarehouse.begin():\n",
    "    \n",
    "    try:\n",
    "        print('Reading Data from Dimension tables')\n",
    "\n",
    "        #Query to fetch ins_firm_id,ins_firm_name\n",
    "        query_for_insurance_firms = text(''' SELECT ins_firm_id,ins_firm_name FROM datawarehouse.insurance_firms_dim; ''')\n",
    "        ins_firm = pd.read_sql(query_for_insurance_firms,datawarehouse)\n",
    "\n",
    "        #Query to fetch cal_date_id,cal_date\n",
    "        query_for_calendar = text(''' SELECT cal_date_id,cal_date FROM datawarehouse.calendar_dim; ''')\n",
    "        calendar = pd.read_sql(query_for_calendar,datawarehouse)\n",
    "\n",
    "        #Query to fetch service_provider_id,service_provider_last_name\n",
    "        query_for_service_provider = text(''' SELECT service_provider_id,service_provider_first_name,service_provider_last_name FROM datawarehouse.service_provider_dim; ''')\n",
    "        service_provider = pd.read_sql(query_for_service_provider,datawarehouse)\n",
    "\n",
    "        #Query to fetch pat_dim_id\n",
    "        query_for_patient = text('''SELECT pat_dim_id,pat_source_key FROM datawarehouse.patient_dim; ''')\n",
    "        patient = pd.read_sql(query_for_patient,datawarehouse)\n",
    "\n",
    "        #Query to fetch clinic_dim_id\n",
    "        query_for_clinic = text('''SELECT clinic_dim_id,clinic_name FROM datawarehouse.clinic_dim;  ''')\n",
    "        clinic = pd.read_sql(query_for_clinic,datawarehouse)\n",
    "\n",
    "\n",
    "        #Query to fetch contract_type_dim_id\n",
    "        query_for_contract_type = text('''SELECT contract_type_id,contract_type_desc   FROM datawarehouse.contract_type_dim;''')\n",
    "        contract_type = pd.read_sql(query_for_contract_type,datawarehouse)\n",
    "        \n",
    "        print('Completed Reading Data from Dimension tables')\n",
    "\n",
    "    except Exception as e:\n",
    "        print('Error: ',e)"
   ]
  },
  {
   "cell_type": "code",
   "execution_count": null,
   "id": "db85d107-dfef-4f3c-97f2-90cb5f1da6f1",
   "metadata": {},
   "outputs": [],
   "source": [
    "# Extracting data from AceExtraction\n",
    "\n",
    "with AceExtraction.begin():\n",
    "    try:\n",
    "        print('Reading Data From source, Medrit_input_table')\n",
    "\n",
    "        query_for_MEDRIT_INPUT_TABLE = text('''SELECT Encounter_Date,Patient_Account_Number,Patient_Name,\n",
    "                                               Facility_Name,Appointment_Provider_Name,GC_NGC,\n",
    "                                                Patient_Primary_Insurance_Name\n",
    "                                                FROM AceExtraction.Medrite_input_table\n",
    "                                                where client like 'FP%' and Encounter_Date >= '2024-04-01';''')\n",
    "        \n",
    "        MEDRITE_INPUT_TABLE = pd.read_sql(query_for_MEDRIT_INPUT_TABLE,AceExtraction)\n",
    "\n",
    "        print('Completed reading Data From source, Medrit_input_table')\n",
    "        \n",
    "    except Exception as e:\n",
    "        print('Error: ',e)"
   ]
  },
  {
   "cell_type": "code",
   "execution_count": null,
   "id": "2515d56c-a7ff-4263-8b9b-ec3b437bc09f",
   "metadata": {},
   "outputs": [],
   "source": [
    "# Changing Datatypes\n",
    "\n",
    "CHRD['Reject_Date'] = CHRD['Reject_Date'].astype(str)\n",
    "CHRD['Service_Date'] = CHRD['Service_Date'].astype(str)\n",
    "calendar['cal_date'] = calendar['cal_date'].astype(str)\n",
    "MEDRITE_INPUT_TABLE['Patient_Account_Number'] = MEDRITE_INPUT_TABLE['Patient_Account_Number'].astype(str)\n",
    "MEDRITE_INPUT_TABLE['Encounter_Date'] =MEDRITE_INPUT_TABLE['Encounter_Date'].astype(str)\n",
    "patient['pat_source_key'] = patient['pat_source_key'].astype(str)"
   ]
  },
  {
   "cell_type": "code",
   "execution_count": null,
   "id": "60cb60dc-80f3-46a5-aa9c-31648743d967",
   "metadata": {},
   "outputs": [],
   "source": [
    "#Creating empty dataframe as per our target(Fact table)\n",
    "\n",
    "clearing_house_rejection_fact = pd.DataFrame(columns=[\n",
    "    'claim_rejection_txn_id',\n",
    "    'insurance_claim_id',\n",
    "    'invoice_number',\n",
    "    'claim_amount',\n",
    "    'insurance_firms_dim_id',\n",
    "    'service_provider_dim_id',\n",
    "    'reject_date_id',\n",
    "    'patient_dim_id',\n",
    "    'service_date_id',\n",
    "    'clinic_dim_id',\n",
    "    'contract_type_dim_id',\n",
    "    'rejection_reason',\n",
    "    'rejected_by',\n",
    "    'reject_message',\n",
    "    'reject_code',\n",
    "    'reject_status',\n",
    "    'created_date'\n",
    "])"
   ]
  },
  {
   "cell_type": "code",
   "execution_count": null,
   "id": "3e333ef8-7645-42c4-80e9-1a41039b86c5",
   "metadata": {},
   "outputs": [],
   "source": [
    "print('Transformation Process begins')\n",
    "\n",
    "pat_names = MEDRITE_INPUT_TABLE['Patient_Name'].str.split(\",\",n=1,expand=True)\n",
    "first_pat_name = pat_names[1].str.strip()\n",
    "last_pat_name = pat_names[0].str.split(\" \",n=1,expand=True)[0]\n",
    "\n",
    "MEDRITE_INPUT_TABLE['input_patient_first_name']= first_pat_name\n",
    "MEDRITE_INPUT_TABLE['input_patient_last_name']= last_pat_name\n",
    "\n",
    "MEDRITE_INPUT_TABLE = MEDRITE_INPUT_TABLE.drop_duplicates(subset=['input_patient_first_name', 'input_patient_last_name','Encounter_Date'])\n"
   ]
  },
  {
   "cell_type": "code",
   "execution_count": null,
   "id": "c9dc33ee-40d4-4ec6-a7bc-af724f219062",
   "metadata": {},
   "outputs": [],
   "source": [
    "df = pd.merge(CHRD,MEDRITE_INPUT_TABLE,\n",
    "              how = 'left',\n",
    "              left_on=['Patient_FirstName','Patient_LastName','Service_Date'],\n",
    "              right_on = ['input_patient_first_name','input_patient_last_name','Encounter_Date'])"
   ]
  },
  {
   "cell_type": "code",
   "execution_count": null,
   "id": "a3ae0f6a-2a42-4105-9f6c-b1019a14483e",
   "metadata": {},
   "outputs": [],
   "source": [
    "names = df['Appointment_Provider_Name'].str.split(\",\",n=1,expand=True)\n",
    "df['service_provider_first_name'] = names[1]\n",
    "df['service_provider_last_name'] = names[0]\n",
    "\n",
    "#Trimming the columns in order to avoid join discripencies\n",
    "\n",
    "df['service_provider_first_name'] = df['service_provider_first_name'].str.strip()\n",
    "df['service_provider_last_name'] = df['service_provider_last_name'].str.strip()"
   ]
  },
  {
   "cell_type": "code",
   "execution_count": null,
   "id": "7074ef1f-ea31-4927-9a5e-fc6aae7fa4e7",
   "metadata": {},
   "outputs": [],
   "source": [
    "#Joining df and ins_firm to get the ins_firm_id\n",
    "\n",
    "df1 = pd.merge(df, ins_firm, \n",
    "              how='left', \n",
    "              left_on='Insurance_Name', \n",
    "              right_on='ins_firm_name')"
   ]
  },
  {
   "cell_type": "code",
   "execution_count": null,
   "id": "95c76774-2b37-4071-b065-42515fa9bc94",
   "metadata": {},
   "outputs": [],
   "source": [
    "#Joining df with cal_dim to get the cal_dim_id \n",
    "#Replacing cal_dim with reject_date_id, because we have again create join with cal_dim for service_date_id\n",
    "\n",
    "df2 = pd.merge(df1, calendar, \n",
    "              how='left', \n",
    "              left_on='Reject_Date', \n",
    "              right_on='cal_date')\n",
    "\n",
    "df2.rename(columns={'cal_date_id': 'reject_date_id'},inplace=True)\n"
   ]
  },
  {
   "cell_type": "code",
   "execution_count": null,
   "id": "9f5a3085-e731-4cc7-a7c0-fe7ae32e198b",
   "metadata": {},
   "outputs": [],
   "source": [
    "#joining df1 with cal_date to generate service_date_id\n",
    "\n",
    "df3 = pd.merge(df2, calendar, \n",
    "              how='left', \n",
    "              left_on='Service_Date', \n",
    "              right_on='cal_date')\n",
    "\n",
    "df3.rename(columns={'cal_date_id': 'service_date_id'},inplace=True)"
   ]
  },
  {
   "cell_type": "code",
   "execution_count": null,
   "id": "33c20394-62cd-4db3-901a-3b47fdc1b45d",
   "metadata": {},
   "outputs": [],
   "source": [
    "#Joing with Service provider dimension\n",
    "\n",
    "df5 = pd.merge(df3,service_provider,\n",
    "               how= 'left',\n",
    "               left_on = ['service_provider_first_name','service_provider_last_name'],\n",
    "               right_on = ['service_provider_first_name','service_provider_last_name'])"
   ]
  },
  {
   "cell_type": "code",
   "execution_count": null,
   "id": "d7baeff4-2126-4d84-8b9a-7ef9671dcc3a",
   "metadata": {},
   "outputs": [],
   "source": [
    "#Joining with Patient Dimension\n",
    "\n",
    "df6 = pd.merge(df5,patient,\n",
    "               how = 'left',\n",
    "               left_on = 'Patient_Account_Number',\n",
    "               right_on = 'pat_source_key')\n",
    "\n",
    "\n",
    "               "
   ]
  },
  {
   "cell_type": "code",
   "execution_count": null,
   "id": "efd15fcc-1eb2-4e2d-b2a2-de01cd09bb43",
   "metadata": {},
   "outputs": [],
   "source": [
    "# Joining df with clinic_dim\n",
    "\n",
    "df7 = pd.merge(df6,clinic,\n",
    "               how='left',\n",
    "               left_on='Facility_Name',\n",
    "               right_on='clinic_name')"
   ]
  },
  {
   "cell_type": "code",
   "execution_count": null,
   "id": "3af74f91-a78a-4e2a-9100-d3ddbce70ea0",
   "metadata": {},
   "outputs": [],
   "source": [
    "# Joining df6 with  contract_type_dim\n",
    "\n",
    "df8 = pd.merge(df7,contract_type,\n",
    "               how='left',\n",
    "               left_on='GC_NGC',\n",
    "               right_on='contract_type_desc')"
   ]
  },
  {
   "cell_type": "code",
   "execution_count": null,
   "id": "9fe35923-a9e9-43de-bdd5-377276432b53",
   "metadata": {},
   "outputs": [],
   "source": [
    "df9 = df8[['Insurance_Claim_ID','Invoice_Number','Claim_Amount','ins_firm_id','service_provider_id','reject_date_id',\n",
    "            'pat_dim_id','service_date_id','clinic_dim_id','contract_type_id','Reason','Reject_By',\n",
    "           'Reject_Message','Rejected_Code','Status']]"
   ]
  },
  {
   "cell_type": "code",
   "execution_count": null,
   "id": "956c6f5d-9061-4b18-b152-97e6b5e3ef07",
   "metadata": {},
   "outputs": [],
   "source": [
    "new_ids = pd.Series(range(1, len(df9) + 1))"
   ]
  },
  {
   "cell_type": "code",
   "execution_count": null,
   "id": "b5052050-a78f-44e3-b901-3bab834154a7",
   "metadata": {},
   "outputs": [],
   "source": [
    "clearing_house_rejection_fact['claim_rejection_txn_id'] = [f'cl_hs_rj_{str(id).zfill(3)}' for id in new_ids]\n",
    "clearing_house_rejection_fact['insurance_claim_id']=list(df9['Insurance_Claim_ID'])\n",
    "clearing_house_rejection_fact['invoice_numberInsurance_Claim_ID']=list(df9['Invoice_Number'])\n",
    "clearing_house_rejection_fact['claim_amount']=list(df9['Claim_Amount'])\n",
    "clearing_house_rejection_fact['insurance_firms_dim_id']=list(df9['ins_firm_id'])\n",
    "clearing_house_rejection_fact['service_provider_dim_id']=list(df9['service_provider_id'])\n",
    "clearing_house_rejection_fact['reject_date_id']=list(df9['reject_date_id'])\n",
    "clearing_house_rejection_fact['patient_dim_id']=list(df9['pat_dim_id'])\n",
    "clearing_house_rejection_fact['service_date_id']=list(df9['service_date_id'])\n",
    "clearing_house_rejection_fact['clinic_dim_id']=list(df9['clinic_dim_id'])\n",
    "clearing_house_rejection_fact['contract_type_dim_id']=list(df9['contract_type_id'])\n",
    "clearing_house_rejection_fact['rejection_reason']=list(df9['Reason'])\n",
    "clearing_house_rejection_fact['rejected_by']=list(df9['Reject_By'])\n",
    "clearing_house_rejection_fact['reject_message']=list(df9['Reject_Message'])\n",
    "clearing_house_rejection_fact['reject_code']=list(df9['Rejected_Code'])\n",
    "clearing_house_rejection_fact['reject_status']=list(df9['Status'])\n",
    "clearing_house_rejection_fact['created_date']=datetime.now().strftime('%Y-%m-%d')"
   ]
  },
  {
   "cell_type": "code",
   "execution_count": null,
   "id": "665067ef-724a-4fe9-93e1-d5ed89e89ff5",
   "metadata": {},
   "outputs": [],
   "source": [
    "#Defining data types\n",
    "\n",
    "data_types = {\n",
    "    'claim_rejection_txn_id': types.String(50),\n",
    "    'insurance_claim_id': types.String(50), \n",
    "    'invoice_number': types.String(50),      \n",
    "    'claim_amount': types.Float(),\n",
    "    'insurance_firms_dim_id': types.String(50),\n",
    "    'reject_date_id': types.String(50),     \n",
    "    'service_date_id': types.String(50),    \n",
    "    'rejection_reason': types.String(255),\n",
    "    'rejected_by': types.String(50),\n",
    "    'reject_message': types.String(255),\n",
    "    'reject_code': types.String(50),\n",
    "    'reject_status': types.String(50),\n",
    "    'created_date': types.Date()\n",
    "}\n",
    "\n",
    "Print('Transformation Process completed')"
   ]
  },
  {
   "cell_type": "code",
   "execution_count": null,
   "id": "b20e2db3-35c8-4ca4-b741-a959fdd08119",
   "metadata": {},
   "outputs": [],
   "source": [
    "#loading into datawarehouse\n",
    "try:\n",
    "    clearing_house_rejection_fact.to_sql('clearing_house_rejection_fact_1',datawarehouse, if_exists='replace', index=False,dtype=data_types)\n",
    "    print('successfully loaded into Data_Warehouse_Dev_Env')\n",
    "except Exception as e:\n",
    "        print(\"An error occurred while loading to Datawarehouse:\", e)"
   ]
  },
  {
   "cell_type": "code",
   "execution_count": null,
   "id": "620dfd8b-6991-4332-8aa2-fc04d6481c3d",
   "metadata": {},
   "outputs": [],
   "source": []
  }
 ],
 "metadata": {
  "kernelspec": {
   "display_name": "Python 3 (ipykernel)",
   "language": "python",
   "name": "python3"
  },
  "language_info": {
   "codemirror_mode": {
    "name": "ipython",
    "version": 3
   },
   "file_extension": ".py",
   "mimetype": "text/x-python",
   "name": "python",
   "nbconvert_exporter": "python",
   "pygments_lexer": "ipython3",
   "version": "3.10.7"
  }
 },
 "nbformat": 4,
 "nbformat_minor": 5
}
