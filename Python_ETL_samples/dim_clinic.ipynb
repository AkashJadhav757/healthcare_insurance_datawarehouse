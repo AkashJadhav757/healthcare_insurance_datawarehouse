{
 "cells": [
  {
   "cell_type": "code",
   "execution_count": 1,
   "id": "9978d5d1-b267-43d3-8919-1842fd06725a",
   "metadata": {},
   "outputs": [],
   "source": [
    "#Importing all required Modules\n",
    "\n",
    "from sqlalchemy.engine import create_engine\n",
    "import pandas as pd\n",
    "import datetime\n",
    "from sqlalchemy.dialects.oracle import DATE, VARCHAR2, FLOAT, NUMBER,TIMESTAMP\n",
    "from sqlalchemy import text,String,types\n",
    "from datetime import datetime"
   ]
  },
  {
   "cell_type": "code",
   "execution_count": 13,
   "id": "82f7862e-3ebb-486f-b729-4143eefa3140",
   "metadata": {},
   "outputs": [],
   "source": [
    "# Extracting data from Source\n",
    "\n",
    "with source_engine.begin():\n",
    "    try:\n",
    "        query = ('select distinct facility_name from AceExtraction.Medrite_input_table')\n",
    "        clinic_names_df = pd.read_sql(query, source_engine)\n",
    "        clinic_names = list(clinic_names_df['facility_name'])\n",
    "    except Exception as e:\n",
    "        print('Error: ',e)"
   ]
  },
  {
   "cell_type": "code",
   "execution_count": 14,
   "id": "1ffe33a5-ceaa-4bb2-b715-ac504e2d5c32",
   "metadata": {},
   "outputs": [],
   "source": [
    "#creating empty dataframe\n",
    "\n",
    "clinic_dim_df = pd.DataFrame(columns=['clinic_dim_id', 'clinic_source_id', 'clinic_name', 'clinic_type','clinic_size','clinic_operational_since',\n",
    "                                     'clinic_region','client_name','created_date'])\n",
    "\n",
    "#insurance_firms_dim_df"
   ]
  },
  {
   "cell_type": "code",
   "execution_count": 15,
   "id": "5660dbe9-a97e-469e-8cc8-b8f4b7d44600",
   "metadata": {},
   "outputs": [],
   "source": [
    "#Loading the data into dataframe\n",
    "clinic_dim_df['clinic_name'] = clinic_names"
   ]
  },
  {
   "cell_type": "code",
   "execution_count": 17,
   "id": "88a7da69-25a8-47cb-b0c5-4657b7cbf694",
   "metadata": {},
   "outputs": [],
   "source": [
    "#Defining the data types\n",
    "\n",
    "data_types = {'clinic_dim_id': types.Integer(),\n",
    "              'clinic_source_id':types.String(255),\n",
    "              'clinic_name':types.String(255),\n",
    "              'clinic_type':types.String(255),\n",
    "              'clinic_size':types.String(255),\n",
    "              'clinic_operational_since':types.Date(),\n",
    "              'clinic_region':types.String(255),\n",
    "              'client_name':types.String(255),\n",
    "              'created_date':types.Date() }\n"
   ]
  },
  {
   "cell_type": "code",
   "execution_count": 18,
   "id": "4927d2a9-b861-4ce1-bcd7-b01b283276fa",
   "metadata": {},
   "outputs": [
    {
     "name": "stdout",
     "output_type": "stream",
     "text": [
      "successfully loaded into Staging_DB\n"
     ]
    }
   ],
   "source": [
    "try:\n",
    " clinic_dim_df.to_sql('clinic_dim',staging_engine, if_exists='append', index=False, dtype= data_types)\n",
    " print('successfully loaded into Staging_DB')\n",
    "except Exception as e:\n",
    " print(\"An error occurred:\", e)"
   ]
  },
  {
   "cell_type": "markdown",
   "id": "462b8d88-265a-441c-9e3c-e6b024c84c11",
   "metadata": {},
   "source": [
    "##ETL from staging to DataWarehouse"
   ]
  },
  {
   "cell_type": "code",
   "execution_count": 21,
   "id": "df5580cb-3073-4a58-855d-262c212472f6",
   "metadata": {},
   "outputs": [],
   "source": [
    "#Extracting data from staging DB\n",
    "\n",
    "with staging_engine.begin():\n",
    " try:\n",
    "     query = (\"select distinct clinic_name from staging_source.clinic_dim;\")\n",
    "     staging_clinic_names_df = pd.read_sql_query(query, staging_engine)\n",
    "     staging_clinic_names_df.dropna(subset=['clinic_name'], inplace=True)\n",
    "     staging_clinic_names = list(staging_clinic_names_df['clinic_name'])\n",
    " except Exception as e:\n",
    "     print(\"An error occurred:\", e)"
   ]
  },
  {
   "cell_type": "code",
   "execution_count": 22,
   "id": "a77bd141-1d95-4042-9efd-a9bb3fba736b",
   "metadata": {},
   "outputs": [],
   "source": [
    "#creating empty dataframe\n",
    "\n",
    "clinic_dim_df = pd.DataFrame(columns=['clinic_dim_id', 'clinic_source_id', 'clinic_name', 'clinic_type','clinic_size','clinic_operational_since',\n",
    "                                     'clinic_region','client_name','created_date'])\n",
    "\n",
    "#insurance_firms_dim_df"
   ]
  },
  {
   "cell_type": "code",
   "execution_count": 25,
   "id": "91ddd373-2b78-4452-8ad6-e3eb275c6a7b",
   "metadata": {},
   "outputs": [],
   "source": [
    "#Determining the current maximum ID in the DataFrame, \n",
    "current_max_id = clinic_dim_df['clinic_dim_id'].max() if not clinic_dim_df.empty else 0\n",
    "# Using pandas Series to generate IDs\n",
    "new_ids = pd.Series(range(current_max_id + 1, current_max_id + 1 + len(staging_clinic_names)))\n"
   ]
  },
  {
   "cell_type": "code",
   "execution_count": 27,
   "id": "1ae94b08-8a79-483e-ba69-82b3f8f5f947",
   "metadata": {},
   "outputs": [],
   "source": [
    "#Transformation\n",
    "\n",
    "new_records = pd.DataFrame({'clinic_dim_id': new_ids,\n",
    "              'clinic_source_id':[category[:3].upper() + str('_') + str(new_id) for category, new_id in zip(staging_clinic_names, new_ids)],\n",
    "              'clinic_name':staging_clinic_names,\n",
    "              'clinic_type':'Unknown',\n",
    "              'clinic_size':'Unknown',\n",
    "              'clinic_operational_since':'Unknown',\n",
    "              'clinic_region':'Unknown',\n",
    "              'client_name':'Unknown',\n",
    "              'created_date':(datetime.now().strftime('%Y-%m-%d'))})"
   ]
  },
  {
   "cell_type": "code",
   "execution_count": 29,
   "id": "e4f2f9c2-7204-4ad7-b1ee-d0ab645f58e4",
   "metadata": {},
   "outputs": [],
   "source": [
    "# Appending the new records to the original DataFrame\n",
    "\n",
    "clinic_dim_df = pd.concat([clinic_dim_df, new_records], ignore_index=True)"
   ]
  },
  {
   "cell_type": "code",
   "execution_count": 30,
   "id": "379ac2e3-1d11-4370-a418-b42e898231ac",
   "metadata": {},
   "outputs": [],
   "source": [
    "#Defining the data types\n",
    "\n",
    "data_types = {'clinic_dim_id': types.Integer(),\n",
    "              'clinic_source_id':types.String(255),\n",
    "              'clinic_name':types.String(255),\n",
    "              'clinic_type':types.String(255),\n",
    "              'clinic_size':types.String(255),\n",
    "              'clinic_operational_since':types.String(255),\n",
    "              'clinic_region':types.String(255),\n",
    "              'client_name':types.String(255),\n",
    "              'created_date':types.Date() }\n"
   ]
  },
  {
   "cell_type": "code",
   "execution_count": 31,
   "id": "e1c92f2c-c486-4ba9-b097-fff30889cebf",
   "metadata": {},
   "outputs": [
    {
     "name": "stdout",
     "output_type": "stream",
     "text": [
      "successfully loaded into DataWarehouse\n"
     ]
    }
   ],
   "source": [
    "#Loading the data into Datawarehouse\n",
    "\n",
    "try:\n",
    " clinic_dim_df.to_sql('clinic_dim',datawarehouse_engine, if_exists='append', index=False, dtype= data_types)\n",
    " print('successfully loaded into DataWarehouse')\n",
    "except Exception as e:\n",
    " print(\"An error occurred:\", e)"
   ]
  },
  {
   "cell_type": "code",
   "execution_count": null,
   "id": "55f61fda-5140-4df6-a3a8-62b73dec9345",
   "metadata": {},
   "outputs": [],
   "source": []
  }
 ],
 "metadata": {
  "kernelspec": {
   "display_name": "Python 3 (ipykernel)",
   "language": "python",
   "name": "python3"
  },
  "language_info": {
   "codemirror_mode": {
    "name": "ipython",
    "version": 3
   },
   "file_extension": ".py",
   "mimetype": "text/x-python",
   "name": "python",
   "nbconvert_exporter": "python",
   "pygments_lexer": "ipython3",
   "version": "3.12.3"
  }
 },
 "nbformat": 4,
 "nbformat_minor": 5
}
