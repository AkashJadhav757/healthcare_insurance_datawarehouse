{
 "cells": [
  {
   "cell_type": "code",
   "execution_count": 1,
   "id": "e5d29e6b-3be3-4b0d-8e01-df0922a35734",
   "metadata": {},
   "outputs": [],
   "source": [
    "#Importing all required Modules\n",
    "\n",
    "from sqlalchemy.engine import create_engine\n",
    "import pandas as pd\n",
    "import datetime\n",
    "from sqlalchemy.dialects.oracle import DATE, VARCHAR2, FLOAT, NUMBER,TIMESTAMP\n",
    "from sqlalchemy import text,String,types\n",
    "from datetime import datetime"
   ]
  },
  {
   "cell_type": "code",
   "execution_count": 2,
   "id": "c0b44471-f5a5-4851-8b06-177c3cc07897",
   "metadata": {},
   "outputs": [],
   "source": [
    "# MySQL connection configuration\n",
    "\n",
    "#1 : Connecting to Source:\n",
    "\n",
    "mysql_host = 'database-1.cq5kggbpkyu9.us-east-2.rds.amazonaws.com'\n",
    "mysql_user = 'aroha_analytics'\n",
    "mysql_password = 'pEjw_41fA6TpB2'\n",
    "mysql_database = 'AceExtraction'\n",
    "source_path = f'mysql+pymysql://{mysql_user}:{mysql_password}@{mysql_host}/{mysql_database}'\n",
    "\n",
    "source_engine = create_engine(source_path)\n",
    "\n",
    "#2 : Connecting to Staging DB :\n",
    "\n",
    "mysql_host = 'arohaanalytics-stg.cq5kggbpkyu9.us-east-2.rds.amazonaws.com'\n",
    "mysql_user = 'aroha_manager'\n",
    "mysql_password = 'k30N053X!lb0kD'\n",
    "mysql_database = 'staging_source'\n",
    "staging_path = f'mysql+pymysql://{mysql_user}:{mysql_password}@{mysql_host}/{mysql_database}'\n",
    "\n",
    "staging_engine = create_engine(staging_path)\n",
    "\n",
    "#3 : Connecting to DataWarehouse\n",
    "\n",
    "mysql_host = 'arohaanalytics-datawarehouse.cq5kggbpkyu9.us-east-2.rds.amazonaws.com'\n",
    "mysql_user = 'aroha_manager'\n",
    "mysql_password = r'mK61\\zaUM8i861'\n",
    "mysql_database = 'datawarehouse_fastpace'\n",
    "datawarehouse_path = f'mysql+pymysql://{mysql_user}:{mysql_password}@{mysql_host}/{mysql_database}'\n",
    "\n",
    "datawarehouse_engine = create_engine(datawarehouse_path)\n"
   ]
  },
  {
   "cell_type": "code",
   "execution_count": 3,
   "id": "a7e2779d-035e-4a3c-91e1-d398e83e767a",
   "metadata": {},
   "outputs": [],
   "source": [
    "# Extracting data from Source\n",
    "\n",
    "with source_engine.begin():\n",
    "    try:\n",
    "        query = ('SELECT distinct Patient_Primary_Insurance_Name FROM AceExtraction.Medrite_input_table;')\n",
    "        insurance_names_df = pd.read_sql(query, source_engine)\n",
    "        insurance_names = list(insurance_names_df['Patient_Primary_Insurance_Name'])\n",
    "    except Exception as e:\n",
    "        print('Error: ',e)\n",
    "\n",
    "#insurance_names_df\n",
    "#insurance_names"
   ]
  },
  {
   "cell_type": "code",
   "execution_count": 4,
   "id": "df8f241d-0aa1-4870-8bb9-17aa18c9299d",
   "metadata": {},
   "outputs": [],
   "source": [
    "#creating empty dataframe\n",
    "\n",
    "insurance_firms_dim_df = pd.DataFrame(columns=['ins_firm_id', 'ins_firm_code', 'ins_firm_name', 'ins_firm_created_date'])\n",
    "\n",
    "#insurance_firms_dim_df"
   ]
  },
  {
   "cell_type": "code",
   "execution_count": 5,
   "id": "6145554f-c82b-49ed-83d1-e7aac4292105",
   "metadata": {},
   "outputs": [],
   "source": [
    "#Loading the data into dataframe\n",
    "\n",
    "insurance_firms_dim_df['ins_firm_name'] = insurance_names"
   ]
  },
  {
   "cell_type": "code",
   "execution_count": 6,
   "id": "39e4082b-f8b6-4dcd-95ab-9ac834f475ce",
   "metadata": {},
   "outputs": [],
   "source": [
    "#Defining the data types\n",
    "\n",
    "data_types = {'ins_firm_id': types.Integer(),\n",
    "              'ins_firm_code':  types.String(255),\n",
    "              'ins_firm_name':  types.String(255),\n",
    "              'ins_firm_created_date': types.Date()}"
   ]
  },
  {
   "cell_type": "code",
   "execution_count": 7,
   "id": "55552fc4-bd4e-4dcd-a856-d929ff14b90f",
   "metadata": {},
   "outputs": [
    {
     "name": "stdout",
     "output_type": "stream",
     "text": [
      "successfully loaded into Staging_DB\n"
     ]
    }
   ],
   "source": [
    "try:\n",
    " insurance_firms_dim_df.to_sql('insurance_firms_dim',staging_engine, if_exists='append', index=False, dtype= data_types)\n",
    " print('successfully loaded into Staging_DB')\n",
    "except Exception as e:\n",
    " print(\"An error occurred:\", e)"
   ]
  },
  {
   "cell_type": "markdown",
   "id": "9b2f5ce2-1a48-4fda-abb2-ce61043ba115",
   "metadata": {},
   "source": [
    "##ETL from staging to DataWarehouse"
   ]
  },
  {
   "cell_type": "code",
   "execution_count": 8,
   "id": "2d17eadd-af35-40a7-a438-2e03c5d6d902",
   "metadata": {},
   "outputs": [],
   "source": [
    "#Extracting data from staging DB\n",
    "\n",
    "with staging_engine.begin():\n",
    " try:\n",
    "     query = (\"select distinct ins_firm_name from staging_source.insurance_firms_dim;\")\n",
    "     staging_insurance_firms_df = pd.read_sql_query(query, staging_engine)\n",
    "     staging_insurance_firms_df.dropna(subset=['ins_firm_name'], inplace=True)\n",
    "     staging_insurance_firms = list(staging_insurance_firms_df['ins_firm_name'])\n",
    " except Exception as e:\n",
    "     print(\"An error occurred:\", e)"
   ]
  },
  {
   "cell_type": "code",
   "execution_count": 9,
   "id": "5bb35b8a-3af2-42f2-8a8c-f9dea7ee7d20",
   "metadata": {},
   "outputs": [],
   "source": [
    "#creating empty dataframe\n",
    "\n",
    "insurance_firms_dim_df = pd.DataFrame(columns=['ins_firm_id', 'ins_firm_code', 'ins_firm_name', 'ins_firm_created_date'])\n",
    "\n",
    "#insurance_firms_dim_df"
   ]
  },
  {
   "cell_type": "code",
   "execution_count": 10,
   "id": "9e4b432d-180a-4ca4-9a74-466bfa649b45",
   "metadata": {},
   "outputs": [],
   "source": [
    "#Determining the current maximum ID in the DataFrame, \n",
    "current_max_id = insurance_firms_dim_df['ins_firm_id'].max() if not insurance_firms_dim_df.empty else 0\n",
    "# Using pandas Series to generate IDs\n",
    "new_ids = pd.Series(range(current_max_id + 1, current_max_id + 1 + len(staging_insurance_firms)))\n"
   ]
  },
  {
   "cell_type": "code",
   "execution_count": 11,
   "id": "632c1975-2cdd-4a1e-b7f9-c0bb26365476",
   "metadata": {},
   "outputs": [],
   "source": [
    "#TRANSFORMATION \n",
    "\n",
    "new_records = pd.DataFrame({\n",
    " 'ins_firm_id': new_ids,\n",
    " 'ins_firm_code':[category[:3].upper() + str('_') + str(new_id) for category, new_id in zip(staging_insurance_firms, new_ids)],\n",
    " 'ins_firm_name': staging_insurance_firms,\n",
    " 'ins_firm_created_date': [datetime.now().strftime('%Y-%m-%d')] * len(staging_insurance_firms)\n",
    "})"
   ]
  },
  {
   "cell_type": "code",
   "execution_count": 12,
   "id": "1a38e8ef-47a8-4c04-9f31-7dd7b71e86d9",
   "metadata": {},
   "outputs": [],
   "source": [
    "# Appending the new records to the original DataFrame\n",
    "\n",
    "insurance_firms_dim_df = pd.concat([insurance_firms_dim_df, new_records], ignore_index=True)"
   ]
  },
  {
   "cell_type": "code",
   "execution_count": 13,
   "id": "c0f38499-ed92-4941-a4a3-cad5d5139c7d",
   "metadata": {},
   "outputs": [],
   "source": [
    "#Defining the data types\n",
    "\n",
    "data_types = {'ins_firm_id': types.Integer(),\n",
    "              'ins_firm_code':  types.String(255),\n",
    "              'ins_firm_name':  types.String(255),\n",
    "              'ins_firm_created_date': types.Date()}"
   ]
  },
  {
   "cell_type": "code",
   "execution_count": 14,
   "id": "84402b28-e6ce-4534-b53f-2ade64e4782a",
   "metadata": {},
   "outputs": [
    {
     "name": "stdout",
     "output_type": "stream",
     "text": [
      "successfully loaded into DataWarehouse\n"
     ]
    }
   ],
   "source": [
    "#Loading the data into Datawarehouse\n",
    "\n",
    "try:\n",
    " insurance_firms_dim_df.to_sql('insurance_firms_dim',datawarehouse_engine, if_exists='append', index=False, dtype= data_types)\n",
    " print('successfully loaded into DataWarehouse')\n",
    "except Exception as e:\n",
    " print(\"An error occurred:\", e)"
   ]
  },
  {
   "cell_type": "code",
   "execution_count": null,
   "id": "1b0136dc-a4ae-4857-9d21-a78f5cb51ad5",
   "metadata": {},
   "outputs": [],
   "source": []
  }
 ],
 "metadata": {
  "kernelspec": {
   "display_name": "Python 3 (ipykernel)",
   "language": "python",
   "name": "python3"
  },
  "language_info": {
   "codemirror_mode": {
    "name": "ipython",
    "version": 3
   },
   "file_extension": ".py",
   "mimetype": "text/x-python",
   "name": "python",
   "nbconvert_exporter": "python",
   "pygments_lexer": "ipython3",
   "version": "3.12.3"
  }
 },
 "nbformat": 4,
 "nbformat_minor": 5
}
