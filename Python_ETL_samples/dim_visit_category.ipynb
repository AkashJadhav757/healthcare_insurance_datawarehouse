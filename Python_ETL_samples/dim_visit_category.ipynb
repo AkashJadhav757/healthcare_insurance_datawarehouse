{
 "cells": [
  {
   "cell_type": "code",
   "execution_count": 1,
   "id": "bce50ee4-a231-46a4-94c7-f54c274b07dd",
   "metadata": {},
   "outputs": [],
   "source": [
    "#Importing all required Modules\n",
    "\n",
    "from sqlalchemy.engine import create_engine\n",
    "import pandas as pd\n",
    "import datetime\n",
    "from sqlalchemy.dialects.oracle import DATE, VARCHAR2, FLOAT, NUMBER,TIMESTAMP\n",
    "from sqlalchemy import text,String,types\n",
    "from datetime import datetime"
   ]
  },
  {
   "cell_type": "code",
   "execution_count": 4,
   "id": "bcc0fb27-e0ed-4058-b746-df9711d96fc5",
   "metadata": {},
   "outputs": [],
   "source": [
    "# Extracting data from Source\n",
    "\n",
    "with source_engine.begin():\n",
    "    try:\n",
    "        query = ('SELECT distinct predictedcategory FROM fastpace.predictionresults')\n",
    "        predicted_category = pd.read_sql(query, source_engine)\n",
    "        input_predicted_category = list(predicted_category['predictedcategory'])\n",
    "    except Exception as e:\n",
    "        print('Error: ',e)\n",
    "\n",
    "#predicted_category\n",
    "#input_predicted_category"
   ]
  },
  {
   "cell_type": "code",
   "execution_count": 5,
   "id": "65a17fb0-901b-4538-84d9-093269ce25ca",
   "metadata": {},
   "outputs": [],
   "source": [
    "#creating empty dataframe\n",
    "\n",
    "visit_category_dim_df = pd.DataFrame(columns=['visit_category_dim_id', 'visit_category_code', 'visit_category_desc', 'created_date'])\n",
    "#visit_category_dim_df"
   ]
  },
  {
   "cell_type": "code",
   "execution_count": 6,
   "id": "1516ae49-c052-4d3c-b79d-0ccbdcb7992d",
   "metadata": {},
   "outputs": [],
   "source": [
    "#Loading the data into dataframe\n",
    "\n",
    "visit_category_dim_df['visit_category_desc'] = input_predicted_category"
   ]
  },
  {
   "cell_type": "code",
   "execution_count": 7,
   "id": "e82d6c00-e0ce-425a-98e9-bcc5db8d0b15",
   "metadata": {},
   "outputs": [],
   "source": [
    "#Defining the data types\n",
    "\n",
    "data_types = {'visit_category_dim_id': types.Integer(),\n",
    "              'visit_category_code':  types.String(255),\n",
    "              'visit_category_desc':  types.String(255),\n",
    "              'created_date': types.Date()}"
   ]
  },
  {
   "cell_type": "code",
   "execution_count": 8,
   "id": "2165439d-ef8a-44a4-a865-6060a86e26d0",
   "metadata": {},
   "outputs": [
    {
     "name": "stdout",
     "output_type": "stream",
     "text": [
      "successfully loaded into Staging_DB\n"
     ]
    }
   ],
   "source": [
    "try:\n",
    " visit_category_dim_df.to_sql('visit_category_dim',staging_engine, if_exists='append', index=False, dtype= data_types)\n",
    " print('successfully loaded into Staging_DB')\n",
    "except Exception as e:\n",
    " print(\"An error occurred:\", e)"
   ]
  },
  {
   "cell_type": "markdown",
   "id": "a8325755-0af6-44e0-8532-56a81ad6985b",
   "metadata": {},
   "source": [
    "##ETL from Staging to Datawarehouse"
   ]
  },
  {
   "cell_type": "code",
   "execution_count": 17,
   "id": "b23769ee-a9ec-4a01-8591-986b059e8be7",
   "metadata": {},
   "outputs": [],
   "source": [
    "#Extracting data from staging DB\n",
    "\n",
    "with staging_engine.begin():\n",
    " try:\n",
    "     query = (\"select distinct visit_category_desc from staging_source.visit_category_dim;\")\n",
    "     prediction_results_df = pd.read_sql_query(query, staging_engine)\n",
    "     input_categories = list(prediction_results_df['visit_category_desc'])\n",
    " except Exception as e:\n",
    "     print(\"An error occurred:\", e)"
   ]
  },
  {
   "cell_type": "code",
   "execution_count": 18,
   "id": "b3991df3-778a-4eb4-8045-c6aed247e4cf",
   "metadata": {},
   "outputs": [],
   "source": [
    "#Creating empty dataframe\n",
    "\n",
    "visit_category_dim_df = pd.DataFrame(columns=['visit_category_dim_id', 'visit_category_code', 'visit_category_desc', 'created_date'])"
   ]
  },
  {
   "cell_type": "code",
   "execution_count": 19,
   "id": "3750d474-2f37-4559-af62-d82238df9080",
   "metadata": {},
   "outputs": [],
   "source": [
    "#Determining the current maximum ID in the DataFrame, \n",
    "current_max_id = visit_category_dim_df['visit_category_dim_id'].max() if not visit_category_dim_df.empty else 0\n",
    "# Using pandas Series to generate IDs\n",
    "new_ids = pd.Series(range(current_max_id + 1, current_max_id + 1 + len(input_categories)))\n"
   ]
  },
  {
   "cell_type": "code",
   "execution_count": 20,
   "id": "82daa9e3-f8fe-42e6-a299-29845af6a447",
   "metadata": {},
   "outputs": [],
   "source": [
    "#TRANSFORMATION \n",
    "\n",
    "new_records = pd.DataFrame({\n",
    " 'visit_category_dim_id': new_ids,\n",
    " 'visit_category_code': [category[:3].upper() for category in input_categories],\n",
    " 'visit_category_desc': input_categories,\n",
    " 'created_date': [datetime.now().strftime('%Y-%m-%d')] * len(input_categories)\n",
    "})"
   ]
  },
  {
   "cell_type": "code",
   "execution_count": 21,
   "id": "904bdc0e-6c49-4979-9dcc-b56c79fdebad",
   "metadata": {},
   "outputs": [],
   "source": [
    "# Appending the new records to the original DataFrame\n",
    "\n",
    "visit_category_dim_df = pd.concat([visit_category_dim_df, new_records], ignore_index=True)"
   ]
  },
  {
   "cell_type": "code",
   "execution_count": 22,
   "id": "93a8443d-7238-4244-843c-7e94694536c5",
   "metadata": {},
   "outputs": [],
   "source": [
    "#Defining the data types \n",
    "\n",
    "data_types = {\n",
    " 'visit_category_dim_id': types.Integer(),\n",
    " 'visit_category_code': types.String(length=3),\n",
    " 'visit_category_desc': types.String(),\n",
    " 'created_date': types.String(length=10) # storing dates as strings in YYYY-MM-DD format\n",
    "}"
   ]
  },
  {
   "cell_type": "code",
   "execution_count": 23,
   "id": "30ffcd88-af73-4dac-b9fa-fbf1b8c66334",
   "metadata": {},
   "outputs": [
    {
     "name": "stdout",
     "output_type": "stream",
     "text": [
      "successfully loaded into DataWarehouse\n"
     ]
    }
   ],
   "source": [
    "#Loading the data into Datawarehouse\n",
    "\n",
    "try:\n",
    " visit_category_dim_df.to_sql('visit_category_dim',datawarehouse_engine, if_exists='append', index=False, dtype= data_types)\n",
    " print('successfully loaded into DataWarehouse')\n",
    "except Exception as e:\n",
    " print(\"An error occurred:\", e)"
   ]
  },
  {
   "cell_type": "code",
   "execution_count": null,
   "id": "b63459e4-6e80-4a13-8df2-23f0d0e5eb09",
   "metadata": {},
   "outputs": [],
   "source": []
  }
 ],
 "metadata": {
  "kernelspec": {
   "display_name": "Python 3 (ipykernel)",
   "language": "python",
   "name": "python3"
  },
  "language_info": {
   "codemirror_mode": {
    "name": "ipython",
    "version": 3
   },
   "file_extension": ".py",
   "mimetype": "text/x-python",
   "name": "python",
   "nbconvert_exporter": "python",
   "pygments_lexer": "ipython3",
   "version": "3.12.3"
  }
 },
 "nbformat": 4,
 "nbformat_minor": 5
}
