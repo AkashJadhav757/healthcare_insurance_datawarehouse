{
 "cells": [
  {
   "cell_type": "code",
   "execution_count": 1,
   "id": "710cfc16-f8d0-46bd-9b65-79abf2052804",
   "metadata": {},
   "outputs": [],
   "source": [
    "#Importing all required Modules\n",
    "\n",
    "from sqlalchemy.engine import create_engine\n",
    "import pandas as pd\n",
    "import datetime\n",
    "from sqlalchemy.dialects.oracle import DATE, VARCHAR2, FLOAT, NUMBER,TIMESTAMP\n",
    "from sqlalchemy import text,String,types\n",
    "from datetime import datetime"
   ]
  },
  {
   "cell_type": "code",
   "execution_count": 3,
   "id": "3e662465-c388-4677-a73d-5d6047734d26",
   "metadata": {},
   "outputs": [],
   "source": [
    "# Extracting data from Source\n",
    "\n",
    "with source_engine.begin():\n",
    "    try:\n",
    "        query = ('select distinct Appointment_Provider_Name from AceExtraction.Medrite_input_table;')\n",
    "        provider_names_df = pd.read_sql(query, source_engine)\n",
    "        provider_names = list(provider_names_df['Appointment_Provider_Name'])\n",
    "    except Exception as e:\n",
    "        print('Error: ',e)\n",
    "\n",
    "#provider_names_df\n",
    "#provider_names"
   ]
  },
  {
   "cell_type": "code",
   "execution_count": 17,
   "id": "a02164bc-7734-42cb-b1e6-2eec6deab606",
   "metadata": {},
   "outputs": [],
   "source": [
    "#creating empty dataframe\n",
    "\n",
    "service_provider_dim_df = pd.DataFrame(columns=['service_provider_id','service_provider_full_name',\n",
    "                                             'service_provider_specialization',\n",
    "                                             'service_provider_job_role','service_provider_gender',\n",
    "                                             'created_date'])\n",
    "#service_provider_dim_df"
   ]
  },
  {
   "cell_type": "code",
   "execution_count": 18,
   "id": "46b5f7f3-45e7-4c29-a04e-240bb103ddf6",
   "metadata": {},
   "outputs": [],
   "source": [
    "#Loading the data into dataframe\n",
    "\n",
    "service_provider_dim_df['service_provider_full_name'] = provider_names"
   ]
  },
  {
   "cell_type": "code",
   "execution_count": 19,
   "id": "3cbb6453-ca61-403f-8ad6-9c15f66de627",
   "metadata": {},
   "outputs": [],
   "source": [
    "#Defining the data types\n",
    "\n",
    "data_types = {'service_provider_id':types.Integer,\n",
    "                            'service_provider_full_name': types.String(255),\n",
    "                            'service_provider_specialization': types.String(255),\n",
    "                            'service_provider_job_role':types.String(255),\n",
    "                            'service_provider_gender':types.String(255),\n",
    "                            'created_date':types.String(10)}"
   ]
  },
  {
   "cell_type": "code",
   "execution_count": 20,
   "id": "69068991-372d-4c87-9274-02138e191382",
   "metadata": {},
   "outputs": [
    {
     "name": "stdout",
     "output_type": "stream",
     "text": [
      "successfully loaded into Staging_DB\n"
     ]
    }
   ],
   "source": [
    "#Loading the data into Staging DB\n",
    "\n",
    "try:\n",
    " service_provider_dim_df.to_sql('service_provider_dim',staging_engine, if_exists='append', index=False, dtype= data_types)\n",
    " print('successfully loaded into Staging_DB')\n",
    "except Exception as e:\n",
    " print(\"An error occurred:\", e)"
   ]
  },
  {
   "cell_type": "markdown",
   "id": "19506f77-e54f-4e62-8f9b-9d92a9acd82e",
   "metadata": {},
   "source": [
    "##ETL from staging to DataWarehouse"
   ]
  },
  {
   "cell_type": "code",
   "execution_count": 21,
   "id": "22a83108-b89f-441a-a490-4db6c93f5429",
   "metadata": {},
   "outputs": [],
   "source": [
    "#Extracting data from staging DB\n",
    "\n",
    "with staging_engine.begin():\n",
    " try:\n",
    "     query = (\"select distinct service_provider_full_name from staging_source.service_provider_dim;\")\n",
    "     staging_service_provider_full_name_df = pd.read_sql_query(query, staging_engine)\n",
    "     staging_service_provider_full_name_df.dropna(subset=['service_provider_full_name'], inplace=True)\n",
    "     staging_service_provider_full_name = list(staging_service_provider_full_name_df['service_provider_full_name'])\n",
    " except Exception as e:\n",
    "     print(\"An error occurred:\", e)\n",
    "\n",
    "     \n",
    "#staging_service_provider_full_name_df\n",
    "#staging_service_provider_full_name"
   ]
  },
  {
   "cell_type": "code",
   "execution_count": 22,
   "id": "002a952f-a2e9-4485-adfd-de619d12d365",
   "metadata": {},
   "outputs": [],
   "source": [
    "#creating empty dataframe\n",
    "\n",
    "service_provider_dim_df = pd.DataFrame(columns=['service_provider_id','service_provider_first_name',\n",
    "                                             'service_provider_last_name','service_provider_specialization',\n",
    "                                             'service_provider_job_role','service_provider_gender',\n",
    "                                             'created_date'])\n",
    "#service_provider_dim_df"
   ]
  },
  {
   "cell_type": "code",
   "execution_count": 23,
   "id": "19bcb9f4-55da-42e2-bcc4-8b7a9d25bda8",
   "metadata": {},
   "outputs": [],
   "source": [
    "# Determining the current maximum ID in the DataFrame, \n",
    "\n",
    "current_max_id = service_provider_dim_df['service_provider_id'].max() if not service_provider_dim_df.empty else 0\n",
    "# Using pandas Series to generate IDs\n",
    "new_ids = pd.Series(range(current_max_id + 1, current_max_id + 1 + len(staging_service_provider_full_name)))"
   ]
  },
  {
   "cell_type": "code",
   "execution_count": 24,
   "id": "72b8bf2e-eede-48bc-b782-0a4926681db6",
   "metadata": {},
   "outputs": [],
   "source": [
    "#Providing the full forms of job roles\n",
    "\n",
    "job_role_mapping = {\n",
    "    'PT': 'Physical Therapist',\n",
    "    'MD': 'Doctor of Medicine',\n",
    "    'FNP': 'Family Nurse Practitioner',\n",
    "    'APRN': 'Advanced Practice Registered Nurse',\n",
    "    'PA': 'Physician Assistant',\n",
    "    'NP': 'Nurse Practitioner',\n",
    "    'DO': 'Doctor of Osteopathic Medicine',\n",
    "    'Provider': 'Provider',\n",
    "    'PA-C': 'Physician Assistant-Certified',\n",
    "    'PMHNP': 'Psychiatric Mental Health Nurse Practitioner',\n",
    "    'FNP-BC': 'Family Nurse Practitioner-Board Certified',\n",
    "    'FNP-C': 'Family Nurse Practitioner-Certified',\n",
    "    'LPC': 'Licensed Professional Counselor'\n",
    "}\n"
   ]
  },
  {
   "cell_type": "code",
   "execution_count": 25,
   "id": "705c8ea5-a961-4bb5-9ddd-7dd290b86bca",
   "metadata": {},
   "outputs": [],
   "source": [
    "#Transformations\n",
    "\n",
    "names = staging_service_provider_full_name_df['service_provider_full_name'].str.split(\",\",n=1,expand=True)\n",
    "first_name = names[1]\n",
    "last_name = names[0].str.split(\" \",n=1,expand=True)[0]\n",
    "job_role = names[0].str.split(\" \", n=1, expand=True)[1].apply(lambda x: job_role_mapping.get(x, x))\n",
    "job_role = job_role.fillna('Job Role Not Available')\n"
   ]
  },
  {
   "cell_type": "code",
   "execution_count": 26,
   "id": "74646efb-047c-46d6-a329-31f821b0e148",
   "metadata": {},
   "outputs": [],
   "source": [
    "new_records = pd.DataFrame({'service_provider_id':new_ids,\n",
    "                            'service_provider_first_name': first_name,\n",
    "                            'service_provider_last_name': last_name,\n",
    "                            'service_provider_specialization': 'Unknown',\n",
    "                            'service_provider_job_role':job_role,\n",
    "                            'service_provider_gender':'Unknown',\n",
    "                            'created_date':datetime.now().strftime('%d-%m-%y')})"
   ]
  },
  {
   "cell_type": "code",
   "execution_count": 27,
   "id": "0b94c321-508b-4cd3-ab80-5efed429ba1e",
   "metadata": {},
   "outputs": [],
   "source": [
    "data_types = {'service_provider_id':types.Integer,\n",
    "                            'service_provider_first_name': types.String(255),\n",
    "                            'service_provider_last_name': types.String(255),\n",
    "                            'service_provider_specialization': types.String(255),\n",
    "                            'service_provider_job_role':types.String(255),\n",
    "                            'service_provider_gender':types.String(255),\n",
    "                            'created_date':types.Date}"
   ]
  },
  {
   "cell_type": "code",
   "execution_count": 28,
   "id": "e9602818-6040-451a-b608-8bddf4de8af6",
   "metadata": {},
   "outputs": [
    {
     "name": "stdout",
     "output_type": "stream",
     "text": [
      "successfully loaded into Data Warehouse\n"
     ]
    }
   ],
   "source": [
    "#Loading the data into Datawarehouse\n",
    "\n",
    "try:\n",
    "    new_records.to_sql('service_provider_dim',datawarehouse_engine, if_exists='append', index=False, dtype=data_types)\n",
    "    print('successfully loaded into Data Warehouse')\n",
    "except Exception as e:\n",
    "        print(\"An error occurred:\", e)"
   ]
  },
  {
   "cell_type": "code",
   "execution_count": null,
   "id": "9a7f6e71-77a5-4865-9e4d-49ff047d4d95",
   "metadata": {},
   "outputs": [],
   "source": []
  },
  {
   "cell_type": "code",
   "execution_count": null,
   "id": "07dd5d39-6123-46e2-bf33-04039803b82d",
   "metadata": {},
   "outputs": [],
   "source": []
  }
 ],
 "metadata": {
  "kernelspec": {
   "display_name": "Python 3 (ipykernel)",
   "language": "python",
   "name": "python3"
  },
  "language_info": {
   "codemirror_mode": {
    "name": "ipython",
    "version": 3
   },
   "file_extension": ".py",
   "mimetype": "text/x-python",
   "name": "python",
   "nbconvert_exporter": "python",
   "pygments_lexer": "ipython3",
   "version": "3.12.3"
  }
 },
 "nbformat": 4,
 "nbformat_minor": 5
}
